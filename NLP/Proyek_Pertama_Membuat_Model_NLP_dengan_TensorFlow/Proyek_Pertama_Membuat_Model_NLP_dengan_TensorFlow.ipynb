{
  "cells": [
    {
      "cell_type": "markdown",
      "metadata": {
        "id": "dJLa5YOEhccK"
      },
      "source": [
        "#Proyek Pertama : Membuat Model NLP dengan TensorFlow\n",
        "\n",
        "\n",
        "---\n",
        "\n",
        "Daniel Shandy Adryan\n",
        "\n",
        "1494037162101-932\n",
        "\n",
        "danielshandy34@gmail.com"
      ]
    },
    {
      "cell_type": "markdown",
      "metadata": {
        "id": "EhwWsT0TejeW"
      },
      "source": [
        "# Preparation"
      ]
    },
    {
      "cell_type": "markdown",
      "metadata": {
        "id": "as4sGQc_izi2"
      },
      "source": [
        "Importing the package, library, or API"
      ]
    },
    {
      "cell_type": "code",
      "execution_count": 1,
      "metadata": {
        "id": "MtsjL768hX9m"
      },
      "outputs": [],
      "source": [
        "import pandas as pd\n",
        "import sklearn\n",
        "import nltk\n",
        "from nltk.corpus import stopwords\n",
        "from nltk.tokenize import word_tokenize\n",
        "import tensorflow as tf\n",
        "import matplotlib.pyplot as plt"
      ]
    },
    {
      "cell_type": "markdown",
      "metadata": {
        "id": "JHxRzWeGi6Rj"
      },
      "source": [
        "defining classes and variables to shorten the syntaxes"
      ]
    },
    {
      "cell_type": "code",
      "execution_count": 2,
      "metadata": {
        "id": "IBOKzDOUhySX"
      },
      "outputs": [],
      "source": [
        "#set stopwords to english\n",
        "stop = set(stopwords.words('english'))\n",
        "\n",
        "#classes used for training and testing\n",
        "class txtrecog():\n",
        "  tts = sklearn.model_selection.train_test_split\n",
        "  tknzr = tf.keras.preprocessing.text.Tokenizer\n",
        "  pseq = tf.keras.utils.pad_sequences\n",
        "\n",
        "#classes used for creating models layer for training\n",
        "class layer():\n",
        "  lstm = tf.keras.layers.LSTM\n",
        "  dns = tf.keras.layers.Dense\n",
        "  dropout = tf.keras.layers.Dropout\n",
        "  embed = tf.keras.layers.Embedding\n",
        "  bn = tf.keras.layers.BatchNormalization\n",
        "\n",
        "#classes used for callbacks\n",
        "class scall(tf.keras.callbacks.Callback):\n",
        "  def on_epoch_end(self, epochs, logs={}):\n",
        "    if (logs.get('val_accuracy') > 0.76):\n",
        "      print ('Pelatihan Dihentikan Karena Akurasi Sudah Mencapai Nilai yang Diinginkan')\n",
        "      self.model.stop_training = True"
      ]
    },
    {
      "cell_type": "markdown",
      "metadata": {
        "id": "9tv2YvzPhKcO"
      },
      "source": [
        "# Data Wrangling"
      ]
    },
    {
      "cell_type": "markdown",
      "metadata": {
        "id": "Mx6eoAk6foT6"
      },
      "source": [
        "Reading the csv-files, using stopwords, and seperate the punctuation"
      ]
    },
    {
      "cell_type": "code",
      "execution_count": 3,
      "metadata": {
        "colab": {
          "base_uri": "https://localhost:8080/",
          "height": 206
        },
        "id": "MXCuWGZg8BXg",
        "outputId": "47bf8b69-4e45-44f9-efce-045a8a40ef9e"
      },
      "outputs": [
        {
          "data": {
            "text/html": [
              "\n",
              "  <div id=\"df-d4d3f3d3-6e79-4c29-92f0-87c541deb3bb\">\n",
              "    <div class=\"colab-df-container\">\n",
              "      <div>\n",
              "<style scoped>\n",
              "    .dataframe tbody tr th:only-of-type {\n",
              "        vertical-align: middle;\n",
              "    }\n",
              "\n",
              "    .dataframe tbody tr th {\n",
              "        vertical-align: top;\n",
              "    }\n",
              "\n",
              "    .dataframe thead th {\n",
              "        text-align: right;\n",
              "    }\n",
              "</style>\n",
              "<table border=\"1\" class=\"dataframe\">\n",
              "  <thead>\n",
              "    <tr style=\"text-align: right;\">\n",
              "      <th></th>\n",
              "      <th>country</th>\n",
              "      <th>description</th>\n",
              "      <th>points</th>\n",
              "      <th>price</th>\n",
              "      <th>variety</th>\n",
              "      <th>winery</th>\n",
              "    </tr>\n",
              "  </thead>\n",
              "  <tbody>\n",
              "    <tr>\n",
              "      <th>0</th>\n",
              "      <td>Italy</td>\n",
              "      <td>aromas include tropical fruit, broom, brimston...</td>\n",
              "      <td>87</td>\n",
              "      <td>NaN</td>\n",
              "      <td>White Blend</td>\n",
              "      <td>Nicosia</td>\n",
              "    </tr>\n",
              "    <tr>\n",
              "      <th>1</th>\n",
              "      <td>Portugal</td>\n",
              "      <td>this is ripe and fruity, a wine that is smooth...</td>\n",
              "      <td>87</td>\n",
              "      <td>15.0</td>\n",
              "      <td>Portuguese Red</td>\n",
              "      <td>Quinta dos Avidagos</td>\n",
              "    </tr>\n",
              "    <tr>\n",
              "      <th>2</th>\n",
              "      <td>US</td>\n",
              "      <td>tart and snappy, the flavors of lime flesh and...</td>\n",
              "      <td>87</td>\n",
              "      <td>14.0</td>\n",
              "      <td>Pinot Gris</td>\n",
              "      <td>Rainstorm</td>\n",
              "    </tr>\n",
              "    <tr>\n",
              "      <th>3</th>\n",
              "      <td>US</td>\n",
              "      <td>pineapple rind, lemon pith and orange blossom ...</td>\n",
              "      <td>87</td>\n",
              "      <td>13.0</td>\n",
              "      <td>Riesling</td>\n",
              "      <td>St. Julian</td>\n",
              "    </tr>\n",
              "    <tr>\n",
              "      <th>4</th>\n",
              "      <td>US</td>\n",
              "      <td>much like the regular bottling from 2012, this...</td>\n",
              "      <td>87</td>\n",
              "      <td>65.0</td>\n",
              "      <td>Pinot Noir</td>\n",
              "      <td>Sweet Cheeks</td>\n",
              "    </tr>\n",
              "  </tbody>\n",
              "</table>\n",
              "</div>\n",
              "      <button class=\"colab-df-convert\" onclick=\"convertToInteractive('df-d4d3f3d3-6e79-4c29-92f0-87c541deb3bb')\"\n",
              "              title=\"Convert this dataframe to an interactive table.\"\n",
              "              style=\"display:none;\">\n",
              "        \n",
              "  <svg xmlns=\"http://www.w3.org/2000/svg\" height=\"24px\"viewBox=\"0 0 24 24\"\n",
              "       width=\"24px\">\n",
              "    <path d=\"M0 0h24v24H0V0z\" fill=\"none\"/>\n",
              "    <path d=\"M18.56 5.44l.94 2.06.94-2.06 2.06-.94-2.06-.94-.94-2.06-.94 2.06-2.06.94zm-11 1L8.5 8.5l.94-2.06 2.06-.94-2.06-.94L8.5 2.5l-.94 2.06-2.06.94zm10 10l.94 2.06.94-2.06 2.06-.94-2.06-.94-.94-2.06-.94 2.06-2.06.94z\"/><path d=\"M17.41 7.96l-1.37-1.37c-.4-.4-.92-.59-1.43-.59-.52 0-1.04.2-1.43.59L10.3 9.45l-7.72 7.72c-.78.78-.78 2.05 0 2.83L4 21.41c.39.39.9.59 1.41.59.51 0 1.02-.2 1.41-.59l7.78-7.78 2.81-2.81c.8-.78.8-2.07 0-2.86zM5.41 20L4 18.59l7.72-7.72 1.47 1.35L5.41 20z\"/>\n",
              "  </svg>\n",
              "      </button>\n",
              "      \n",
              "  <style>\n",
              "    .colab-df-container {\n",
              "      display:flex;\n",
              "      flex-wrap:wrap;\n",
              "      gap: 12px;\n",
              "    }\n",
              "\n",
              "    .colab-df-convert {\n",
              "      background-color: #E8F0FE;\n",
              "      border: none;\n",
              "      border-radius: 50%;\n",
              "      cursor: pointer;\n",
              "      display: none;\n",
              "      fill: #1967D2;\n",
              "      height: 32px;\n",
              "      padding: 0 0 0 0;\n",
              "      width: 32px;\n",
              "    }\n",
              "\n",
              "    .colab-df-convert:hover {\n",
              "      background-color: #E2EBFA;\n",
              "      box-shadow: 0px 1px 2px rgba(60, 64, 67, 0.3), 0px 1px 3px 1px rgba(60, 64, 67, 0.15);\n",
              "      fill: #174EA6;\n",
              "    }\n",
              "\n",
              "    [theme=dark] .colab-df-convert {\n",
              "      background-color: #3B4455;\n",
              "      fill: #D2E3FC;\n",
              "    }\n",
              "\n",
              "    [theme=dark] .colab-df-convert:hover {\n",
              "      background-color: #434B5C;\n",
              "      box-shadow: 0px 1px 3px 1px rgba(0, 0, 0, 0.15);\n",
              "      filter: drop-shadow(0px 1px 2px rgba(0, 0, 0, 0.3));\n",
              "      fill: #FFFFFF;\n",
              "    }\n",
              "  </style>\n",
              "\n",
              "      <script>\n",
              "        const buttonEl =\n",
              "          document.querySelector('#df-d4d3f3d3-6e79-4c29-92f0-87c541deb3bb button.colab-df-convert');\n",
              "        buttonEl.style.display =\n",
              "          google.colab.kernel.accessAllowed ? 'block' : 'none';\n",
              "\n",
              "        async function convertToInteractive(key) {\n",
              "          const element = document.querySelector('#df-d4d3f3d3-6e79-4c29-92f0-87c541deb3bb');\n",
              "          const dataTable =\n",
              "            await google.colab.kernel.invokeFunction('convertToInteractive',\n",
              "                                                     [key], {});\n",
              "          if (!dataTable) return;\n",
              "\n",
              "          const docLinkHtml = 'Like what you see? Visit the ' +\n",
              "            '<a target=\"_blank\" href=https://colab.research.google.com/notebooks/data_table.ipynb>data table notebook</a>'\n",
              "            + ' to learn more about interactive tables.';\n",
              "          element.innerHTML = '';\n",
              "          dataTable['output_type'] = 'display_data';\n",
              "          await google.colab.output.renderOutput(dataTable, element);\n",
              "          const docLink = document.createElement('div');\n",
              "          docLink.innerHTML = docLinkHtml;\n",
              "          element.appendChild(docLink);\n",
              "        }\n",
              "      </script>\n",
              "    </div>\n",
              "  </div>\n",
              "  "
            ],
            "text/plain": [
              "    country                                        description  points  price  \\\n",
              "0     Italy  aromas include tropical fruit, broom, brimston...      87    NaN   \n",
              "1  Portugal  this is ripe and fruity, a wine that is smooth...      87   15.0   \n",
              "2        US  tart and snappy, the flavors of lime flesh and...      87   14.0   \n",
              "3        US  pineapple rind, lemon pith and orange blossom ...      87   13.0   \n",
              "4        US  much like the regular bottling from 2012, this...      87   65.0   \n",
              "\n",
              "          variety               winery  \n",
              "0     White Blend              Nicosia  \n",
              "1  Portuguese Red  Quinta dos Avidagos  \n",
              "2      Pinot Gris            Rainstorm  \n",
              "3        Riesling           St. Julian  \n",
              "4      Pinot Noir         Sweet Cheeks  "
            ]
          },
          "execution_count": 3,
          "metadata": {},
          "output_type": "execute_result"
        }
      ],
      "source": [
        "#reading csv files\n",
        "df = pd.read_csv('/content/wine-reviews.csv',usecols = ['country', 'description', 'points', 'price', 'variety', 'winery'])\n",
        "\n",
        "df.dropna(subset=[\"description\", \"points\"], inplace = True)\n",
        "df.drop_duplicates(subset=[\"description\", \"points\"], inplace = True)\n",
        "df.isnull().sum()\n",
        "df['description'] = df['description'].str.lower()\n",
        "df.head()"
      ]
    },
    {
      "cell_type": "markdown",
      "metadata": {
        "id": "sspSY6M3egnH"
      },
      "source": [
        "Plotting 'Points' Columns and converting it into int32 type"
      ]
    },
    {
      "cell_type": "code",
      "execution_count": 4,
      "metadata": {
        "colab": {
          "base_uri": "https://localhost:8080/",
          "height": 295
        },
        "id": "I0Y3QpYaeZ8o",
        "outputId": "991ea6d8-c896-49de-b029-b791201c7c34"
      },
      "outputs": [
        {
          "data": {
            "image/png": "[encoded data removed]",
            "text/plain": [
              "<Figure size 432x288 with 1 Axes>"
            ]
          },
          "metadata": {
            "needs_background": "light"
          },
          "output_type": "display_data"
        }
      ],
      "source": [
        "plt.hist(df.points, bins=20)\n",
        "plt.title(\"Points histogram\")\n",
        "plt.ylabel(\"N\")\n",
        "plt.xlabel(\"Points\")\n",
        "plt.show()"
      ]
    },
    {
      "cell_type": "code",
      "execution_count": 5,
      "metadata": {
        "id": "7So8niuKMb3o"
      },
      "outputs": [],
      "source": [
        "df[\"label\"] = (df.points >= 90).astype(int)\n",
        "df = df[[\"description\", \"label\"]]"
      ]
    },
    {
      "cell_type": "markdown",
      "metadata": {
        "id": "8PNozJaNgCEh"
      },
      "source": [
        "defining stopwords"
      ]
    },
    {
      "cell_type": "code",
      "execution_count": 6,
      "metadata": {
        "colab": {
          "base_uri": "https://localhost:8080/",
          "height": 315
        },
        "id": "ZIqpaX_kdba3",
        "outputId": "eea9062f-4f88-400d-d319-2afeccbf0ac9"
      },
      "outputs": [
        {
          "name": "stderr",
          "output_type": "stream",
          "text": [
            "/usr/local/lib/python3.7/dist-packages/ipykernel_launcher.py:3: SettingWithCopyWarning: \n",
            "A value is trying to be set on a copy of a slice from a DataFrame.\n",
            "Try using .loc[row_indexer,col_indexer] = value instead\n",
            "\n",
            "See the caveats in the documentation: https://pandas.pydata.org/pandas-docs/stable/user_guide/indexing.html#returning-a-view-versus-a-copy\n",
            "  This is separate from the ipykernel package so we can avoid doing imports until\n"
          ]
        },
        {
          "data": {
            "text/html": [
              "\n",
              "  <div id=\"df-99b5cb16-cac1-4827-b3d1-cc9949ebbbab\">\n",
              "    <div class=\"colab-df-container\">\n",
              "      <div>\n",
              "<style scoped>\n",
              "    .dataframe tbody tr th:only-of-type {\n",
              "        vertical-align: middle;\n",
              "    }\n",
              "\n",
              "    .dataframe tbody tr th {\n",
              "        vertical-align: top;\n",
              "    }\n",
              "\n",
              "    .dataframe thead th {\n",
              "        text-align: right;\n",
              "    }\n",
              "</style>\n",
              "<table border=\"1\" class=\"dataframe\">\n",
              "  <thead>\n",
              "    <tr style=\"text-align: right;\">\n",
              "      <th></th>\n",
              "      <th>description</th>\n",
              "      <th>label</th>\n",
              "    </tr>\n",
              "  </thead>\n",
              "  <tbody>\n",
              "    <tr>\n",
              "      <th>0</th>\n",
              "      <td>aromas include tropical fruit, broom, brimston...</td>\n",
              "      <td>0</td>\n",
              "    </tr>\n",
              "    <tr>\n",
              "      <th>1</th>\n",
              "      <td>ripe fruity, wine smooth still structured. fir...</td>\n",
              "      <td>0</td>\n",
              "    </tr>\n",
              "    <tr>\n",
              "      <th>2</th>\n",
              "      <td>tart snappy, flavors lime flesh rind dominate....</td>\n",
              "      <td>0</td>\n",
              "    </tr>\n",
              "    <tr>\n",
              "      <th>3</th>\n",
              "      <td>pineapple rind, lemon pith orange blossom star...</td>\n",
              "      <td>0</td>\n",
              "    </tr>\n",
              "    <tr>\n",
              "      <th>4</th>\n",
              "      <td>much like regular bottling 2012, comes across ...</td>\n",
              "      <td>0</td>\n",
              "    </tr>\n",
              "  </tbody>\n",
              "</table>\n",
              "</div>\n",
              "      <button class=\"colab-df-convert\" onclick=\"convertToInteractive('df-99b5cb16-cac1-4827-b3d1-cc9949ebbbab')\"\n",
              "              title=\"Convert this dataframe to an interactive table.\"\n",
              "              style=\"display:none;\">\n",
              "        \n",
              "  <svg xmlns=\"http://www.w3.org/2000/svg\" height=\"24px\"viewBox=\"0 0 24 24\"\n",
              "       width=\"24px\">\n",
              "    <path d=\"M0 0h24v24H0V0z\" fill=\"none\"/>\n",
              "    <path d=\"M18.56 5.44l.94 2.06.94-2.06 2.06-.94-2.06-.94-.94-2.06-.94 2.06-2.06.94zm-11 1L8.5 8.5l.94-2.06 2.06-.94-2.06-.94L8.5 2.5l-.94 2.06-2.06.94zm10 10l.94 2.06.94-2.06 2.06-.94-2.06-.94-.94-2.06-.94 2.06-2.06.94z\"/><path d=\"M17.41 7.96l-1.37-1.37c-.4-.4-.92-.59-1.43-.59-.52 0-1.04.2-1.43.59L10.3 9.45l-7.72 7.72c-.78.78-.78 2.05 0 2.83L4 21.41c.39.39.9.59 1.41.59.51 0 1.02-.2 1.41-.59l7.78-7.78 2.81-2.81c.8-.78.8-2.07 0-2.86zM5.41 20L4 18.59l7.72-7.72 1.47 1.35L5.41 20z\"/>\n",
              "  </svg>\n",
              "      </button>\n",
              "      \n",
              "  <style>\n",
              "    .colab-df-container {\n",
              "      display:flex;\n",
              "      flex-wrap:wrap;\n",
              "      gap: 12px;\n",
              "    }\n",
              "\n",
              "    .colab-df-convert {\n",
              "      background-color: #E8F0FE;\n",
              "      border: none;\n",
              "      border-radius: 50%;\n",
              "      cursor: pointer;\n",
              "      display: none;\n",
              "      fill: #1967D2;\n",
              "      height: 32px;\n",
              "      padding: 0 0 0 0;\n",
              "      width: 32px;\n",
              "    }\n",
              "\n",
              "    .colab-df-convert:hover {\n",
              "      background-color: #E2EBFA;\n",
              "      box-shadow: 0px 1px 2px rgba(60, 64, 67, 0.3), 0px 1px 3px 1px rgba(60, 64, 67, 0.15);\n",
              "      fill: #174EA6;\n",
              "    }\n",
              "\n",
              "    [theme=dark] .colab-df-convert {\n",
              "      background-color: #3B4455;\n",
              "      fill: #D2E3FC;\n",
              "    }\n",
              "\n",
              "    [theme=dark] .colab-df-convert:hover {\n",
              "      background-color: #434B5C;\n",
              "      box-shadow: 0px 1px 3px 1px rgba(0, 0, 0, 0.15);\n",
              "      filter: drop-shadow(0px 1px 2px rgba(0, 0, 0, 0.3));\n",
              "      fill: #FFFFFF;\n",
              "    }\n",
              "  </style>\n",
              "\n",
              "      <script>\n",
              "        const buttonEl =\n",
              "          document.querySelector('#df-99b5cb16-cac1-4827-b3d1-cc9949ebbbab button.colab-df-convert');\n",
              "        buttonEl.style.display =\n",
              "          google.colab.kernel.accessAllowed ? 'block' : 'none';\n",
              "\n",
              "        async function convertToInteractive(key) {\n",
              "          const element = document.querySelector('#df-99b5cb16-cac1-4827-b3d1-cc9949ebbbab');\n",
              "          const dataTable =\n",
              "            await google.colab.kernel.invokeFunction('convertToInteractive',\n",
              "                                                     [key], {});\n",
              "          if (!dataTable) return;\n",
              "\n",
              "          const docLinkHtml = 'Like what you see? Visit the ' +\n",
              "            '<a target=\"_blank\" href=https://colab.research.google.com/notebooks/data_table.ipynb>data table notebook</a>'\n",
              "            + ' to learn more about interactive tables.';\n",
              "          element.innerHTML = '';\n",
              "          dataTable['output_type'] = 'display_data';\n",
              "          await google.colab.output.renderOutput(dataTable, element);\n",
              "          const docLink = document.createElement('div');\n",
              "          docLink.innerHTML = docLinkHtml;\n",
              "          element.appendChild(docLink);\n",
              "        }\n",
              "      </script>\n",
              "    </div>\n",
              "  </div>\n",
              "  "
            ],
            "text/plain": [
              "                                         description  label\n",
              "0  aromas include tropical fruit, broom, brimston...      0\n",
              "1  ripe fruity, wine smooth still structured. fir...      0\n",
              "2  tart snappy, flavors lime flesh rind dominate....      0\n",
              "3  pineapple rind, lemon pith orange blossom star...      0\n",
              "4  much like regular bottling 2012, comes across ...      0"
            ]
          },
          "execution_count": 6,
          "metadata": {},
          "output_type": "execute_result"
        }
      ],
      "source": [
        "def del_stop_words (x):\n",
        "  return ' '.join([ w for w in str(x).split() if w not in (stop) ])\n",
        "df[\"description\"] = df[\"description\"].apply(lambda x: del_stop_words (x))\n",
        "df.head()"
      ]
    },
    {
      "cell_type": "markdown",
      "metadata": {
        "id": "Xjj1KenegHyi"
      },
      "source": [
        "seperating the punctuation"
      ]
    },
    {
      "cell_type": "code",
      "execution_count": 7,
      "metadata": {
        "colab": {
          "base_uri": "https://localhost:8080/",
          "height": 206
        },
        "id": "KYS0dYmwmqCp",
        "outputId": "7bf8b2db-2a87-4e56-8aad-51babb168934"
      },
      "outputs": [
        {
          "data": {
            "text/html": [
              "\n",
              "  <div id=\"df-047c96e1-7a3e-4be8-971c-5c9e34cee833\">\n",
              "    <div class=\"colab-df-container\">\n",
              "      <div>\n",
              "<style scoped>\n",
              "    .dataframe tbody tr th:only-of-type {\n",
              "        vertical-align: middle;\n",
              "    }\n",
              "\n",
              "    .dataframe tbody tr th {\n",
              "        vertical-align: top;\n",
              "    }\n",
              "\n",
              "    .dataframe thead th {\n",
              "        text-align: right;\n",
              "    }\n",
              "</style>\n",
              "<table border=\"1\" class=\"dataframe\">\n",
              "  <thead>\n",
              "    <tr style=\"text-align: right;\">\n",
              "      <th></th>\n",
              "      <th>description</th>\n",
              "      <th>label</th>\n",
              "    </tr>\n",
              "  </thead>\n",
              "  <tbody>\n",
              "    <tr>\n",
              "      <th>7830</th>\n",
              "      <td>first.vintage.wine.available.united.states.mak...</td>\n",
              "      <td>0</td>\n",
              "    </tr>\n",
              "    <tr>\n",
              "      <th>7831</th>\n",
              "      <td>seems.emphasis.oak.fruit...oak.darn.tasty.—toa...</td>\n",
              "      <td>0</td>\n",
              "    </tr>\n",
              "    <tr>\n",
              "      <th>7832</th>\n",
              "      <td>93.%.shiraz.,.many.wineries.would.labeled.shir...</td>\n",
              "      <td>0</td>\n",
              "    </tr>\n",
              "    <tr>\n",
              "      <th>7833</th>\n",
              "      <td>structured.,.medium.-weight.wine.'s.nose.offer...</td>\n",
              "      <td>0</td>\n",
              "    </tr>\n",
              "    <tr>\n",
              "      <th>7834</th>\n",
              "      <td>add.new.winery.growing.list.walla.walla.-based...</td>\n",
              "      <td>0</td>\n",
              "    </tr>\n",
              "  </tbody>\n",
              "</table>\n",
              "</div>\n",
              "      <button class=\"colab-df-convert\" onclick=\"convertToInteractive('df-047c96e1-7a3e-4be8-971c-5c9e34cee833')\"\n",
              "              title=\"Convert this dataframe to an interactive table.\"\n",
              "              style=\"display:none;\">\n",
              "        \n",
              "  <svg xmlns=\"http://www.w3.org/2000/svg\" height=\"24px\"viewBox=\"0 0 24 24\"\n",
              "       width=\"24px\">\n",
              "    <path d=\"M0 0h24v24H0V0z\" fill=\"none\"/>\n",
              "    <path d=\"M18.56 5.44l.94 2.06.94-2.06 2.06-.94-2.06-.94-.94-2.06-.94 2.06-2.06.94zm-11 1L8.5 8.5l.94-2.06 2.06-.94-2.06-.94L8.5 2.5l-.94 2.06-2.06.94zm10 10l.94 2.06.94-2.06 2.06-.94-2.06-.94-.94-2.06-.94 2.06-2.06.94z\"/><path d=\"M17.41 7.96l-1.37-1.37c-.4-.4-.92-.59-1.43-.59-.52 0-1.04.2-1.43.59L10.3 9.45l-7.72 7.72c-.78.78-.78 2.05 0 2.83L4 21.41c.39.39.9.59 1.41.59.51 0 1.02-.2 1.41-.59l7.78-7.78 2.81-2.81c.8-.78.8-2.07 0-2.86zM5.41 20L4 18.59l7.72-7.72 1.47 1.35L5.41 20z\"/>\n",
              "  </svg>\n",
              "      </button>\n",
              "      \n",
              "  <style>\n",
              "    .colab-df-container {\n",
              "      display:flex;\n",
              "      flex-wrap:wrap;\n",
              "      gap: 12px;\n",
              "    }\n",
              "\n",
              "    .colab-df-convert {\n",
              "      background-color: #E8F0FE;\n",
              "      border: none;\n",
              "      border-radius: 50%;\n",
              "      cursor: pointer;\n",
              "      display: none;\n",
              "      fill: #1967D2;\n",
              "      height: 32px;\n",
              "      padding: 0 0 0 0;\n",
              "      width: 32px;\n",
              "    }\n",
              "\n",
              "    .colab-df-convert:hover {\n",
              "      background-color: #E2EBFA;\n",
              "      box-shadow: 0px 1px 2px rgba(60, 64, 67, 0.3), 0px 1px 3px 1px rgba(60, 64, 67, 0.15);\n",
              "      fill: #174EA6;\n",
              "    }\n",
              "\n",
              "    [theme=dark] .colab-df-convert {\n",
              "      background-color: #3B4455;\n",
              "      fill: #D2E3FC;\n",
              "    }\n",
              "\n",
              "    [theme=dark] .colab-df-convert:hover {\n",
              "      background-color: #434B5C;\n",
              "      box-shadow: 0px 1px 3px 1px rgba(0, 0, 0, 0.15);\n",
              "      filter: drop-shadow(0px 1px 2px rgba(0, 0, 0, 0.3));\n",
              "      fill: #FFFFFF;\n",
              "    }\n",
              "  </style>\n",
              "\n",
              "      <script>\n",
              "        const buttonEl =\n",
              "          document.querySelector('#df-047c96e1-7a3e-4be8-971c-5c9e34cee833 button.colab-df-convert');\n",
              "        buttonEl.style.display =\n",
              "          google.colab.kernel.accessAllowed ? 'block' : 'none';\n",
              "\n",
              "        async function convertToInteractive(key) {\n",
              "          const element = document.querySelector('#df-047c96e1-7a3e-4be8-971c-5c9e34cee833');\n",
              "          const dataTable =\n",
              "            await google.colab.kernel.invokeFunction('convertToInteractive',\n",
              "                                                     [key], {});\n",
              "          if (!dataTable) return;\n",
              "\n",
              "          const docLinkHtml = 'Like what you see? Visit the ' +\n",
              "            '<a target=\"_blank\" href=https://colab.research.google.com/notebooks/data_table.ipynb>data table notebook</a>'\n",
              "            + ' to learn more about interactive tables.';\n",
              "          element.innerHTML = '';\n",
              "          dataTable['output_type'] = 'display_data';\n",
              "          await google.colab.output.renderOutput(dataTable, element);\n",
              "          const docLink = document.createElement('div');\n",
              "          docLink.innerHTML = docLinkHtml;\n",
              "          element.appendChild(docLink);\n",
              "        }\n",
              "      </script>\n",
              "    </div>\n",
              "  </div>\n",
              "  "
            ],
            "text/plain": [
              "                                            description  label\n",
              "7830  first.vintage.wine.available.united.states.mak...      0\n",
              "7831  seems.emphasis.oak.fruit...oak.darn.tasty.—toa...      0\n",
              "7832  93.%.shiraz.,.many.wineries.would.labeled.shir...      0\n",
              "7833  structured.,.medium.-weight.wine.'s.nose.offer...      0\n",
              "7834  add.new.winery.growing.list.walla.walla.-based...      0"
            ]
          },
          "execution_count": 7,
          "metadata": {},
          "output_type": "execute_result"
        }
      ],
      "source": [
        "tknz = nltk.RegexpTokenizer(r\"\\w+|\\S+\")\n",
        "df[\"description\"] = df[\"description\"].apply(lambda x: \".\".join([ w for w in (tknz.tokenize(x)) ]))\n",
        "df.tail()"
      ]
    },
    {
      "cell_type": "markdown",
      "metadata": {
        "id": "kZwWDMtegMQU"
      },
      "source": [
        "inserting the values of selected columns into a few variables"
      ]
    },
    {
      "cell_type": "code",
      "execution_count": 8,
      "metadata": {
        "id": "jD8Y4y1-m_A1"
      },
      "outputs": [],
      "source": [
        "plot = df['description'].values\n",
        "label = df[['label']].values"
      ]
    },
    {
      "cell_type": "markdown",
      "metadata": {
        "id": "02ffMV6Ge2Ox"
      },
      "source": [
        "# Text Tokenization"
      ]
    },
    {
      "cell_type": "markdown",
      "metadata": {
        "id": "Gd3jSbVTgg_r"
      },
      "source": [
        "seperating the datasets into validation data and train data"
      ]
    },
    {
      "cell_type": "code",
      "execution_count": 9,
      "metadata": {
        "id": "W_qXWMT7AKS9"
      },
      "outputs": [],
      "source": [
        "Plot_train, Plot_test, label_train, label_test = txtrecog.tts(plot, label, test_size=0.2)"
      ]
    },
    {
      "cell_type": "markdown",
      "metadata": {
        "id": "k-F_kntugh_7"
      },
      "source": [
        "text tokenization process"
      ]
    },
    {
      "cell_type": "code",
      "execution_count": 10,
      "metadata": {
        "id": "C4MfHKnAAvK4"
      },
      "outputs": [],
      "source": [
        "tokenizer = txtrecog.tknzr(num_words=7000, oov_token='-')\n",
        "tokenizer.fit_on_texts(Plot_train) \n",
        "\n",
        "seq_train = tokenizer.texts_to_sequences(Plot_train)\n",
        "seq_tst = tokenizer.texts_to_sequences(Plot_test)\n",
        "\n",
        "pad_train = txtrecog.pseq(\n",
        "    seq_train,\n",
        "    maxlen=30,\n",
        "    padding='post',\n",
        "    truncating='post') \n",
        "pad_tst = txtrecog.pseq(\n",
        "    seq_tst,\n",
        "    maxlen=30,\n",
        "    padding='post',\n",
        "    truncating='post')"
      ]
    },
    {
      "cell_type": "markdown",
      "metadata": {
        "id": "czALLTEXe6jq"
      },
      "source": [
        "# Training and Modelling"
      ]
    },
    {
      "cell_type": "markdown",
      "metadata": {
        "id": "7LLVauRpgve1"
      },
      "source": [
        "Modelling and compiling the NN"
      ]
    },
    {
      "cell_type": "code",
      "execution_count": 11,
      "metadata": {
        "id": "J9VFJOQKAzHr"
      },
      "outputs": [],
      "source": [
        "mdl = tf.keras.Sequential()\n",
        "mdl.add(layer.embed(input_dim=7000, output_dim=32, mask_zero=True))\n",
        "mdl.add(layer.bn())\n",
        "mdl.add(layer.lstm(32))\n",
        "mdl.add(layer.dns(2, activation='relu'))\n",
        "mdl.add(layer.bn())\n",
        "mdl.add(layer.dropout(0.4))\n",
        "mdl.add(layer.dns(4, activation='relu'))\n",
        "mdl.add(layer.bn())\n",
        "mdl.add(layer.dropout(0.4))\n",
        "mdl.add(layer.dns(8, activation='relu'))\n",
        "mdl.add(layer.bn())\n",
        "mdl.add(layer.dropout(0.4))\n",
        "mdl.add(layer.dns(1, activation='sigmoid'))\n",
        "\n",
        "mdl.compile(loss='binary_crossentropy', optimizer='adam', metrics=['accuracy'])"
      ]
    },
    {
      "cell_type": "markdown",
      "metadata": {
        "id": "uCtm6XZsgyhq"
      },
      "source": [
        "Training the model"
      ]
    },
    {
      "cell_type": "code",
      "execution_count": 12,
      "metadata": {
        "colab": {
          "base_uri": "https://localhost:8080/"
        },
        "id": "749ZuIJfDSPs",
        "outputId": "19027d8a-4fb1-4e51-c59c-b0c3903d83e3"
      },
      "outputs": [
        {
          "name": "stdout",
          "output_type": "stream",
          "text": [
            "Epoch 1/30\n",
            "195/195 - 25s - loss: 0.8658 - accuracy: 0.5271 - val_loss: 0.6533 - val_accuracy: 0.6410 - 25s/epoch - 127ms/step\n",
            "Epoch 2/30\n",
            "195/195 - 8s - loss: 0.7447 - accuracy: 0.5827 - val_loss: 0.6561 - val_accuracy: 0.6410 - 8s/epoch - 39ms/step\n",
            "Epoch 3/30\n",
            "195/195 - 7s - loss: 0.7122 - accuracy: 0.6079 - val_loss: 0.6551 - val_accuracy: 0.6410 - 7s/epoch - 38ms/step\n",
            "Epoch 4/30\n",
            "195/195 - 4s - loss: 0.6913 - accuracy: 0.6175 - val_loss: 0.6549 - val_accuracy: 0.6410 - 4s/epoch - 20ms/step\n",
            "Epoch 5/30\n",
            "195/195 - 4s - loss: 0.6792 - accuracy: 0.6258 - val_loss: 0.6533 - val_accuracy: 0.6410 - 4s/epoch - 19ms/step\n",
            "Epoch 6/30\n",
            "195/195 - 4s - loss: 0.6668 - accuracy: 0.6353 - val_loss: 0.6486 - val_accuracy: 0.6410 - 4s/epoch - 19ms/step\n",
            "Epoch 7/30\n",
            "195/195 - 4s - loss: 0.6522 - accuracy: 0.6473 - val_loss: 0.6377 - val_accuracy: 0.6410 - 4s/epoch - 20ms/step\n",
            "Epoch 8/30\n",
            "195/195 - 4s - loss: 0.6329 - accuracy: 0.6574 - val_loss: 0.6161 - val_accuracy: 0.6429 - 4s/epoch - 20ms/step\n",
            "Epoch 9/30\n",
            "195/195 - 4s - loss: 0.6040 - accuracy: 0.6790 - val_loss: 0.5704 - val_accuracy: 0.7064 - 4s/epoch - 19ms/step\n",
            "Epoch 10/30\n",
            "195/195 - 4s - loss: 0.5557 - accuracy: 0.7202 - val_loss: 0.5387 - val_accuracy: 0.7410 - 4s/epoch - 20ms/step\n",
            "Epoch 11/30\n",
            "Pelatihan Dihentikan Karena Akurasi Sudah Mencapai Nilai yang Diinginkan\n",
            "195/195 - 4s - loss: 0.5094 - accuracy: 0.7595 - val_loss: 0.4892 - val_accuracy: 0.7756 - 4s/epoch - 20ms/step\n"
          ]
        }
      ],
      "source": [
        "hstr = mdl.fit(pad_train, label_train, epochs= 30,\n",
        "                    validation_data=(pad_tst, label_test),\n",
        "                    callbacks = [scall()], verbose=2)"
      ]
    },
    {
      "cell_type": "markdown",
      "metadata": {
        "id": "OoYu9bnge8kH"
      },
      "source": [
        "# Plotting"
      ]
    },
    {
      "cell_type": "markdown",
      "metadata": {
        "id": "96bLdbnig0xE"
      },
      "source": [
        "Loss Plotting"
      ]
    },
    {
      "cell_type": "code",
      "execution_count": 13,
      "metadata": {
        "colab": {
          "base_uri": "https://localhost:8080/",
          "height": 283
        },
        "id": "F4eB5cmSqsSc",
        "outputId": "c03b774b-d0db-42c4-e911-a09665d8fc1a"
      },
      "outputs": [
        {
          "data": {
            "text/plain": [
              "<matplotlib.legend.Legend at 0x7efdde18b750>"
            ]
          },
          "execution_count": 13,
          "metadata": {},
          "output_type": "execute_result"
        },
        {
          "data": {
            "image/png": "[encoded data removed]",
            "text/plain": [
              "<Figure size 432x288 with 1 Axes>"
            ]
          },
          "metadata": {
            "needs_background": "light"
          },
          "output_type": "display_data"
        }
      ],
      "source": [
        "plt.plot(hstr.history['loss'], label = 'Latih')\n",
        "plt.plot(hstr.history['val_loss'], label = 'Test')\n",
        "plt.legend()"
      ]
    },
    {
      "cell_type": "markdown",
      "metadata": {
        "id": "n0httTS1g2ib"
      },
      "source": [
        "Accuracy Plotting"
      ]
    },
    {
      "cell_type": "code",
      "execution_count": 14,
      "metadata": {
        "colab": {
          "base_uri": "https://localhost:8080/",
          "height": 283
        },
        "id": "StdoZuWgrHxb",
        "outputId": "7adb75d9-7184-408c-9513-484b4e2b58e5"
      },
      "outputs": [
        {
          "data": {
            "text/plain": [
              "<matplotlib.legend.Legend at 0x7efdde104cd0>"
            ]
          },
          "execution_count": 14,
          "metadata": {},
          "output_type": "execute_result"
        },
        {
          "data": {
            "image/png": "[encoded data removed]",
            "text/plain": [
              "<Figure size 432x288 with 1 Axes>"
            ]
          },
          "metadata": {
            "needs_background": "light"
          },
          "output_type": "display_data"
        }
      ],
      "source": [
        "plt.plot(hstr.history['accuracy'], label = 'Latih')\n",
        "plt.plot(hstr.history['val_accuracy'], label = 'Test')\n",
        "plt.legend()"
      ]
    }
  ],
  "metadata": {
    "colab": {
      "collapsed_sections": [],
      "provenance": [],
      "toc_visible": true
    },
    "gpuClass": "standard",
    "kernelspec": {
      "display_name": "Python 3.9.7 64-bit",
      "language": "python",
      "name": "python3"
    },
    "language_info": {
      "name": "python",
      "version": "3.9.7"
    },
    "vscode": {
      "interpreter": {
        "hash": "a9960baf88259386db57c734c8604c8e4ab789688672644b3cf73fda24b112c6"
      }
    }
  },
  "nbformat": 4,
  "nbformat_minor": 0
}
