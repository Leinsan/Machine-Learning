{
  "nbformat": 4,
  "nbformat_minor": 0,
  "metadata": {
    "colab": {
      "provenance": [],
      "collapsed_sections": []
    },
    "kernelspec": {
      "name": "python3",
      "display_name": "Python 3"
    },
    "language_info": {
      "name": "python"
    },
    "gpuClass": "standard",
    "accelerator": "GPU"
  },
  "cells": [
    {
      "cell_type": "markdown",
      "source": [
        "# Proyek Akhir : Image Classification Model Deployment.\n",
        "---\n",
        "Daniel Shandy Adryan\n",
        "\n",
        "1494037162101-932"
      ],
      "metadata": {
        "id": "wXPr8AX8Nisi"
      }
    },
    {
      "cell_type": "markdown",
      "source": [
        "# Preparation"
      ],
      "metadata": {
        "id": "cDYKScJaNdMz"
      }
    },
    {
      "cell_type": "code",
      "source": [
        "!pip install split_folders"
      ],
      "metadata": {
        "colab": {
          "base_uri": "https://localhost:8080/"
        },
        "id": "Dzm4wBOth5qk",
        "outputId": "7745a9ae-e84a-4522-d06e-d2564def0ac0"
      },
      "execution_count": 1,
      "outputs": [
        {
          "output_type": "stream",
          "name": "stdout",
          "text": [
            "Looking in indexes: https://pypi.org/simple, https://us-python.pkg.dev/colab-wheels/public/simple/\n",
            "Requirement already satisfied: split_folders in /usr/local/lib/python3.7/dist-packages (0.5.1)\n"
          ]
        }
      ]
    },
    {
      "cell_type": "markdown",
      "source": [
        "Importing API's and Library"
      ],
      "metadata": {
        "id": "FJMNTvecOCr8"
      }
    },
    {
      "cell_type": "code",
      "execution_count": 2,
      "metadata": {
        "id": "Ow-rEcDCNO6h"
      },
      "outputs": [],
      "source": [
        "import tensorflow as tf\n",
        "from tensorflow.keras.layers import Input\n",
        "from tensorflow.keras.applications import ResNet152V2,ResNet50, Xception, InceptionV3\n",
        "import splitfolders\n",
        "import os, warnings\n",
        "from tensorflow.keras.layers import Dropout, BatchNormalization, Dense, Flatten, MaxPooling2D, Conv2D\n",
        "from tensorflow.keras.preprocessing.image import ImageDataGenerator\n",
        "import numpy as np\n",
        "from google.colab import files\n",
        "from tensorflow.keras.preprocessing import image\n",
        "import matplotlib.pyplot as plt\n",
        "import matplotlib.image as mpimg"
      ]
    },
    {
      "cell_type": "markdown",
      "source": [
        "Defining Variables to simplify the source code"
      ],
      "metadata": {
        "id": "t-yXxuUMOLbS"
      }
    },
    {
      "cell_type": "code",
      "source": [
        "mp=MaxPooling2D\n",
        "konv=Conv2D\n",
        "bn=BatchNormalization\n",
        "imgdg = ImageDataGenerator\n",
        "\n",
        "#classes used for callbacks\n",
        "class scall(tf.keras.callbacks.Callback):\n",
        "  def on_epoch_end(self, epochs, logs={}):\n",
        "    if ((logs.get('val_accuracy') > 0.85) & (logs.get('accuracy')> 0.85)):\n",
        "      print ('Pelatihan Dihentikan Karena Akurasi Sudah Mencapai Nilai yang Diinginkan')\n",
        "      self.model.stop_training = True"
      ],
      "metadata": {
        "id": "WHkJ9Go6OtSG"
      },
      "execution_count": 3,
      "outputs": []
    },
    {
      "cell_type": "markdown",
      "source": [
        "Cloneing the datasets from github"
      ],
      "metadata": {
        "id": "UGo0Yk9mOXCG"
      }
    },
    {
      "cell_type": "code",
      "source": [
        "! git clone https://github.com/Hrushikesh-github/animal-3 "
      ],
      "metadata": {
        "colab": {
          "base_uri": "https://localhost:8080/"
        },
        "id": "9M3TtCuwOO23",
        "outputId": "3470a8a3-82e6-409e-fa3f-f7fcc3ca0af9"
      },
      "execution_count": 4,
      "outputs": [
        {
          "output_type": "stream",
          "name": "stdout",
          "text": [
            "fatal: destination path 'animal-3' already exists and is not an empty directory.\n"
          ]
        }
      ]
    },
    {
      "cell_type": "markdown",
      "source": [
        "Printing total images in the folders"
      ],
      "metadata": {
        "id": "CwASmeq4ObUv"
      }
    },
    {
      "cell_type": "code",
      "source": [
        "print('Total Images : {}'.format(\n",
        "    len(os.listdir('/content/animal-3/panda')) + \n",
        "    len(os.listdir('/content/animal-3/dogs')) + \n",
        "    len(os.listdir('/content/animal-3/cats'))\n",
        "    )\n",
        ")"
      ],
      "metadata": {
        "colab": {
          "base_uri": "https://localhost:8080/"
        },
        "id": "2ZGllQcPaqjv",
        "outputId": "959ecd26-7a54-47b1-ff4a-e826cf74c6fe"
      },
      "execution_count": 5,
      "outputs": [
        {
          "output_type": "stream",
          "name": "stdout",
          "text": [
            "Total Images : 3000\n"
          ]
        }
      ]
    },
    {
      "cell_type": "markdown",
      "source": [
        "Splitting folders into training folders and validation folders"
      ],
      "metadata": {
        "id": "rEgwjxrLOjnQ"
      }
    },
    {
      "cell_type": "code",
      "source": [
        "splitfolders.ratio('/content/animal-3', '/content/animal-3/data', seed=1, ratio=(0.8, 0.2))\n",
        "bdir = '/content/animal-3'\n",
        "train_dir = os.path.join(bdir, 'train') ## Train Dataset\n",
        "val_dir = os.path.join(bdir, 'val') ## Validation Dataset"
      ],
      "metadata": {
        "id": "dtDxjmGegP12",
        "colab": {
          "base_uri": "https://localhost:8080/"
        },
        "outputId": "013c8a3a-e345-49cf-c787-6005c788d301"
      },
      "execution_count": 6,
      "outputs": [
        {
          "output_type": "stream",
          "name": "stderr",
          "text": [
            "Copying files: 3005 files [00:01, 2637.41 files/s]\n"
          ]
        }
      ]
    },
    {
      "cell_type": "code",
      "source": [
        "os.listdir('/content/animal-3/data/train')"
      ],
      "metadata": {
        "colab": {
          "base_uri": "https://localhost:8080/"
        },
        "id": "-IxQ0GB11wRk",
        "outputId": "2dfffeed-c352-4597-affa-7057960a7491"
      },
      "execution_count": 7,
      "outputs": [
        {
          "output_type": "execute_result",
          "data": {
            "text/plain": [
              "['data', 'panda', 'cats', 'dogs', '.git']"
            ]
          },
          "metadata": {},
          "execution_count": 7
        }
      ]
    },
    {
      "cell_type": "code",
      "source": [
        "os.listdir('/content/animal-3/data/val')"
      ],
      "metadata": {
        "colab": {
          "base_uri": "https://localhost:8080/"
        },
        "id": "qBu9wwOzcUES",
        "outputId": "c90e2a48-acfd-4bc3-a8af-d312e2ffd651"
      },
      "execution_count": 8,
      "outputs": [
        {
          "output_type": "execute_result",
          "data": {
            "text/plain": [
              "['data', 'panda', 'cats', 'dogs', '.git']"
            ]
          },
          "metadata": {},
          "execution_count": 8
        }
      ]
    },
    {
      "cell_type": "code",
      "source": [
        "train_cats_dir = os.path.join(train_dir, 'cats')\n",
        "train_panda_dir = os.path.join(train_dir, 'panda')\n",
        "train_dogs_dir = os.path.join(train_dir, 'dogs')\n",
        "\n",
        "val_cats_dir = os.path.join(val_dir, 'cats')\n",
        "val_panda_dir = os.path.join(val_dir, 'panda')\n",
        "val_dogs_dir = os.path.join(val_dir, 'dogs')"
      ],
      "metadata": {
        "id": "G7zdwYrFdgD8"
      },
      "execution_count": 9,
      "outputs": []
    },
    {
      "cell_type": "markdown",
      "source": [
        "creating the datasets for training"
      ],
      "metadata": {
        "id": "IaLk2Ok8OsgV"
      }
    },
    {
      "cell_type": "code",
      "source": [
        "train_datagen = imgdg(\n",
        "          rescale=1./255,\n",
        "          rotation_range=30,\n",
        "          brightness_range = [0.1,1.0],\n",
        "          horizontal_flip=True,\n",
        "          vertical_flip=True,\n",
        "          shear_range = 0.3,\n",
        "          zoom_range = 0.3,\n",
        "          fill_mode = 'nearest')\n",
        "\n",
        "val_datagen = imgdg(rescale=1./255)"
      ],
      "metadata": {
        "id": "ZV1L2hU1gm-o"
      },
      "execution_count": 10,
      "outputs": []
    },
    {
      "cell_type": "code",
      "source": [
        "train_gen = train_datagen.flow_from_directory(\n",
        "        '/content/animal-3/data/train',  # direktori data train\n",
        "        target_size=(100,150),\n",
        "        batch_size=120,\n",
        "        shuffle=True,\n",
        "        seed=1,\n",
        "        class_mode='categorical',\n",
        "        classes=(['panda', 'cats', 'dogs']))\n",
        "\n",
        "validation_gen = val_datagen.flow_from_directory(\n",
        "        '/content/animal-3/data/val', # direktori data val\n",
        "        target_size=(100,150),\n",
        "        batch_size=60,\n",
        "        shuffle=False,\n",
        "        class_mode='categorical',\n",
        "        classes=(['panda', 'cats', 'dogs']))"
      ],
      "metadata": {
        "colab": {
          "base_uri": "https://localhost:8080/"
        },
        "id": "IEsnKaltyvfY",
        "outputId": "d07dc0ef-6502-4751-d260-fb789fd166c3"
      },
      "execution_count": 11,
      "outputs": [
        {
          "output_type": "stream",
          "name": "stdout",
          "text": [
            "Found 2400 images belonging to 3 classes.\n",
            "Found 600 images belonging to 3 classes.\n"
          ]
        }
      ]
    },
    {
      "cell_type": "markdown",
      "source": [
        "# Modelling and Training"
      ],
      "metadata": {
        "id": "W2qMRfs9Ox3O"
      }
    },
    {
      "cell_type": "markdown",
      "source": [
        "Modelling"
      ],
      "metadata": {
        "id": "VVe7N4ZQPGXa"
      }
    },
    {
      "cell_type": "code",
      "source": [
        "model = tf.keras.models.Sequential()\n",
        "model.add(Xception(weights=\"imagenet\", include_top=False, input_tensor=Input(shape=(100, 150, 3))))\n",
        "model.add(Flatten())\n",
        "model.add(Dense(512, activation='relu'))\n",
        "model.add(Dense(3, activation='softmax'))"
      ],
      "metadata": {
        "id": "ZGVA8yWU0v4D"
      },
      "execution_count": null,
      "outputs": []
    },
    {
      "cell_type": "markdown",
      "source": [
        "compiling the model"
      ],
      "metadata": {
        "id": "CuKad8yIPPbG"
      }
    },
    {
      "cell_type": "code",
      "source": [
        "model.compile(optimizer=tf.optimizers.Adam(learning_rate=1.0000e-04),\n",
        "              loss='categorical_crossentropy',\n",
        "              metrics=['accuracy'])"
      ],
      "metadata": {
        "id": "WU1tTk8c4bI9"
      },
      "execution_count": 13,
      "outputs": []
    },
    {
      "cell_type": "markdown",
      "source": [
        "training the model"
      ],
      "metadata": {
        "id": "1y4TgWr8PR2g"
      }
    },
    {
      "cell_type": "code",
      "source": [
        "history = model.fit(\n",
        "    train_gen,\n",
        "    epochs= 20,\n",
        "    steps_per_epoch=20,\n",
        "    validation_data= validation_gen,\n",
        "    validation_steps= 10,\n",
        "    callbacks=[scall()],\n",
        "    verbose= 2)"
      ],
      "metadata": {
        "colab": {
          "base_uri": "https://localhost:8080/"
        },
        "id": "LKFllS-k4Wug",
        "outputId": "2f9ad974-431d-4124-f830-73e649508b74"
      },
      "execution_count": 14,
      "outputs": [
        {
          "output_type": "stream",
          "name": "stdout",
          "text": [
            "Epoch 1/20\n",
            "20/20 - 733s - loss: 1.0151 - accuracy: 0.5692 - val_loss: 0.5418 - val_accuracy: 0.8833 - 733s/epoch - 37s/step\n",
            "Epoch 2/20\n",
            "20/20 - 715s - loss: 0.5370 - accuracy: 0.7858 - val_loss: 0.3328 - val_accuracy: 0.9200 - 715s/epoch - 36s/step\n",
            "Epoch 3/20\n",
            "20/20 - 711s - loss: 0.3726 - accuracy: 0.8446 - val_loss: 0.2978 - val_accuracy: 0.9300 - 711s/epoch - 36s/step\n",
            "Epoch 4/20\n",
            "Pelatihan Dihentikan Karena Akurasi Sudah Mencapai Nilai yang Diinginkan\n",
            "20/20 - 712s - loss: 0.2784 - accuracy: 0.8825 - val_loss: 0.2076 - val_accuracy: 0.9450 - 712s/epoch - 36s/step\n"
          ]
        }
      ]
    },
    {
      "cell_type": "markdown",
      "source": [
        "# Plotting and Predicting"
      ],
      "metadata": {
        "id": "srzH1xa9Pz8k"
      }
    },
    {
      "cell_type": "markdown",
      "source": [
        "Plot loss"
      ],
      "metadata": {
        "id": "uVQcDdTuP5is"
      }
    },
    {
      "cell_type": "code",
      "source": [
        "plt.plot(history.history['loss'], label = 'Latih')\n",
        "plt.plot(history.history['val_loss'], label = 'Test')\n",
        "plt.legend()"
      ],
      "metadata": {
        "id": "4-D3KGie4sAk",
        "colab": {
          "base_uri": "https://localhost:8080/",
          "height": 283
        },
        "outputId": "bc4820a7-8c41-49b0-cc9a-e906dfa63767"
      },
      "execution_count": 15,
      "outputs": [
        {
          "output_type": "execute_result",
          "data": {
            "text/plain": [
              "<matplotlib.legend.Legend at 0x7fb9741251d0>"
            ]
          },
          "metadata": {},
          "execution_count": 15
        },
        {
          "output_type": "display_data",
          "data": {
            "text/plain": [
              "<Figure size 432x288 with 1 Axes>"
            ],
            "image/png": "[encoded data removed]"
          },
          "metadata": {
            "needs_background": "light"
          }
        }
      ]
    },
    {
      "cell_type": "markdown",
      "source": [
        "Plot Accuracy"
      ],
      "metadata": {
        "id": "-EUdYTECP8AX"
      }
    },
    {
      "cell_type": "code",
      "source": [
        "plt.plot(history.history['accuracy'], label = 'Latih')\n",
        "plt.plot(history.history['val_accuracy'], label = 'Test')\n",
        "plt.legend()"
      ],
      "metadata": {
        "id": "8mXuRh6f417Q",
        "colab": {
          "base_uri": "https://localhost:8080/",
          "height": 283
        },
        "outputId": "91d78453-4873-409b-d9c0-8c18e1c9f45d"
      },
      "execution_count": 16,
      "outputs": [
        {
          "output_type": "execute_result",
          "data": {
            "text/plain": [
              "<matplotlib.legend.Legend at 0x7fb9740c1090>"
            ]
          },
          "metadata": {},
          "execution_count": 16
        },
        {
          "output_type": "display_data",
          "data": {
            "text/plain": [
              "<Figure size 432x288 with 1 Axes>"
            ],
            "image/png": "[encoded data removed]"
          },
          "metadata": {
            "needs_background": "light"
          }
        }
      ]
    },
    {
      "cell_type": "markdown",
      "source": [
        "Predicting"
      ],
      "metadata": {
        "id": "w2QsCgzQP-6p"
      }
    },
    {
      "cell_type": "code",
      "source": [
        "%matplotlib inline\n",
        " \n",
        "upld = files.upload()\n",
        " \n",
        "for fn in upld.keys():\n",
        " \n",
        "  # predicting images\n",
        "  dir = fn\n",
        "  gbr = image.load_img(dir, target_size=(100,150))\n",
        " \n",
        "  show = plt.imshow(gbr)\n",
        "  x = image.img_to_array(gbr)\n",
        "  x = np.expand_dims(x, axis=0)\n",
        "  imgs = np.vstack([x])\n",
        " \n",
        "  classes = model.predict(imgs, batch_size=120)  \n",
        "  print(classes)\n",
        "  if classes[0][0]==1:\n",
        "    print('panda')\n",
        "  elif classes[0][1]==1:\n",
        "    print('cats')\n",
        "  elif classes[0][2]==1:\n",
        "    print('dogs')\n",
        "  else:\n",
        "    print('unknown creatures')"
      ],
      "metadata": {
        "id": "akBzN_0t4r67",
        "colab": {
          "base_uri": "https://localhost:8080/",
          "height": 379
        },
        "outputId": "acc7bd20-6322-4abb-a315-63b6ab712266"
      },
      "execution_count": 17,
      "outputs": [
        {
          "output_type": "display_data",
          "data": {
            "text/plain": [
              "<IPython.core.display.HTML object>"
            ],
            "text/html": [
              "\n",
              "     <input type=\"file\" id=\"files-9d6bbf8e-0796-4cb2-aaa3-d4efe290890b\" name=\"files[]\" multiple disabled\n",
              "        style=\"border:none\" />\n",
              "     <output id=\"result-9d6bbf8e-0796-4cb2-aaa3-d4efe290890b\">\n",
              "      Upload widget is only available when the cell has been executed in the\n",
              "      current browser session. Please rerun this cell to enable.\n",
              "      </output>\n",
              "      <script>// Copyright 2017 Google LLC\n",
              "//\n",
              "// Licensed under the Apache License, Version 2.0 (the \"License\");\n",
              "// you may not use this file except in compliance with the License.\n",
              "// You may obtain a copy of the License at\n",
              "//\n",
              "//      http://www.apache.org/licenses/LICENSE-2.0\n",
              "//\n",
              "// Unless required by applicable law or agreed to in writing, software\n",
              "// distributed under the License is distributed on an \"AS IS\" BASIS,\n",
              "// WITHOUT WARRANTIES OR CONDITIONS OF ANY KIND, either express or implied.\n",
              "// See the License for the specific language governing permissions and\n",
              "// limitations under the License.\n",
              "\n",
              "/**\n",
              " * @fileoverview Helpers for google.colab Python module.\n",
              " */\n",
              "(function(scope) {\n",
              "function span(text, styleAttributes = {}) {\n",
              "  const element = document.createElement('span');\n",
              "  element.textContent = text;\n",
              "  for (const key of Object.keys(styleAttributes)) {\n",
              "    element.style[key] = styleAttributes[key];\n",
              "  }\n",
              "  return element;\n",
              "}\n",
              "\n",
              "// Max number of bytes which will be uploaded at a time.\n",
              "const MAX_PAYLOAD_SIZE = 100 * 1024;\n",
              "\n",
              "function _uploadFiles(inputId, outputId) {\n",
              "  const steps = uploadFilesStep(inputId, outputId);\n",
              "  const outputElement = document.getElementById(outputId);\n",
              "  // Cache steps on the outputElement to make it available for the next call\n",
              "  // to uploadFilesContinue from Python.\n",
              "  outputElement.steps = steps;\n",
              "\n",
              "  return _uploadFilesContinue(outputId);\n",
              "}\n",
              "\n",
              "// This is roughly an async generator (not supported in the browser yet),\n",
              "// where there are multiple asynchronous steps and the Python side is going\n",
              "// to poll for completion of each step.\n",
              "// This uses a Promise to block the python side on completion of each step,\n",
              "// then passes the result of the previous step as the input to the next step.\n",
              "function _uploadFilesContinue(outputId) {\n",
              "  const outputElement = document.getElementById(outputId);\n",
              "  const steps = outputElement.steps;\n",
              "\n",
              "  const next = steps.next(outputElement.lastPromiseValue);\n",
              "  return Promise.resolve(next.value.promise).then((value) => {\n",
              "    // Cache the last promise value to make it available to the next\n",
              "    // step of the generator.\n",
              "    outputElement.lastPromiseValue = value;\n",
              "    return next.value.response;\n",
              "  });\n",
              "}\n",
              "\n",
              "/**\n",
              " * Generator function which is called between each async step of the upload\n",
              " * process.\n",
              " * @param {string} inputId Element ID of the input file picker element.\n",
              " * @param {string} outputId Element ID of the output display.\n",
              " * @return {!Iterable<!Object>} Iterable of next steps.\n",
              " */\n",
              "function* uploadFilesStep(inputId, outputId) {\n",
              "  const inputElement = document.getElementById(inputId);\n",
              "  inputElement.disabled = false;\n",
              "\n",
              "  const outputElement = document.getElementById(outputId);\n",
              "  outputElement.innerHTML = '';\n",
              "\n",
              "  const pickedPromise = new Promise((resolve) => {\n",
              "    inputElement.addEventListener('change', (e) => {\n",
              "      resolve(e.target.files);\n",
              "    });\n",
              "  });\n",
              "\n",
              "  const cancel = document.createElement('button');\n",
              "  inputElement.parentElement.appendChild(cancel);\n",
              "  cancel.textContent = 'Cancel upload';\n",
              "  const cancelPromise = new Promise((resolve) => {\n",
              "    cancel.onclick = () => {\n",
              "      resolve(null);\n",
              "    };\n",
              "  });\n",
              "\n",
              "  // Wait for the user to pick the files.\n",
              "  const files = yield {\n",
              "    promise: Promise.race([pickedPromise, cancelPromise]),\n",
              "    response: {\n",
              "      action: 'starting',\n",
              "    }\n",
              "  };\n",
              "\n",
              "  cancel.remove();\n",
              "\n",
              "  // Disable the input element since further picks are not allowed.\n",
              "  inputElement.disabled = true;\n",
              "\n",
              "  if (!files) {\n",
              "    return {\n",
              "      response: {\n",
              "        action: 'complete',\n",
              "      }\n",
              "    };\n",
              "  }\n",
              "\n",
              "  for (const file of files) {\n",
              "    const li = document.createElement('li');\n",
              "    li.append(span(file.name, {fontWeight: 'bold'}));\n",
              "    li.append(span(\n",
              "        `(${file.type || 'n/a'}) - ${file.size} bytes, ` +\n",
              "        `last modified: ${\n",
              "            file.lastModifiedDate ? file.lastModifiedDate.toLocaleDateString() :\n",
              "                                    'n/a'} - `));\n",
              "    const percent = span('0% done');\n",
              "    li.appendChild(percent);\n",
              "\n",
              "    outputElement.appendChild(li);\n",
              "\n",
              "    const fileDataPromise = new Promise((resolve) => {\n",
              "      const reader = new FileReader();\n",
              "      reader.onload = (e) => {\n",
              "        resolve(e.target.result);\n",
              "      };\n",
              "      reader.readAsArrayBuffer(file);\n",
              "    });\n",
              "    // Wait for the data to be ready.\n",
              "    let fileData = yield {\n",
              "      promise: fileDataPromise,\n",
              "      response: {\n",
              "        action: 'continue',\n",
              "      }\n",
              "    };\n",
              "\n",
              "    // Use a chunked sending to avoid message size limits. See b/62115660.\n",
              "    let position = 0;\n",
              "    do {\n",
              "      const length = Math.min(fileData.byteLength - position, MAX_PAYLOAD_SIZE);\n",
              "      const chunk = new Uint8Array(fileData, position, length);\n",
              "      position += length;\n",
              "\n",
              "      const base64 = btoa(String.fromCharCode.apply(null, chunk));\n",
              "      yield {\n",
              "        response: {\n",
              "          action: 'append',\n",
              "          file: file.name,\n",
              "          data: base64,\n",
              "        },\n",
              "      };\n",
              "\n",
              "      let percentDone = fileData.byteLength === 0 ?\n",
              "          100 :\n",
              "          Math.round((position / fileData.byteLength) * 100);\n",
              "      percent.textContent = `${percentDone}% done`;\n",
              "\n",
              "    } while (position < fileData.byteLength);\n",
              "  }\n",
              "\n",
              "  // All done.\n",
              "  yield {\n",
              "    response: {\n",
              "      action: 'complete',\n",
              "    }\n",
              "  };\n",
              "}\n",
              "\n",
              "scope.google = scope.google || {};\n",
              "scope.google.colab = scope.google.colab || {};\n",
              "scope.google.colab._files = {\n",
              "  _uploadFiles,\n",
              "  _uploadFilesContinue,\n",
              "};\n",
              "})(self);\n",
              "</script> "
            ]
          },
          "metadata": {}
        },
        {
          "output_type": "stream",
          "name": "stdout",
          "text": [
            "Saving dog.jpg to dog (1).jpg\n",
            "1/1 [==============================] - 1s 940ms/step\n",
            "[[0.0000000e+00 1.1572823e-26 1.0000000e+00]]\n",
            "dogs\n"
          ]
        },
        {
          "output_type": "display_data",
          "data": {
            "text/plain": [
              "<Figure size 432x288 with 1 Axes>"
            ],
            "image/png": "[encoded data removed]"
          },
          "metadata": {
            "needs_background": "light"
          }
        }
      ]
    },
    {
      "cell_type": "markdown",
      "source": [
        "# Saving into TF-Lite"
      ],
      "metadata": {
        "id": "WcOYu5ATQQ25"
      }
    },
    {
      "cell_type": "code",
      "source": [
        "# Ignore Warning\n",
        "warnings.filterwarnings('ignore')\n",
        "\n",
        "# Convert Model.\n",
        "converter = tf.lite.TFLiteConverter.from_keras_model(model)\n",
        "tflite_model = converter.convert()\n",
        "\n",
        "# Save the model.\n",
        "with open('CDP_model.tflite', 'wb') as f:\n",
        "  f.write(tflite_model)"
      ],
      "metadata": {
        "colab": {
          "base_uri": "https://localhost:8080/"
        },
        "id": "9JWBjVddPyT_",
        "outputId": "92339c71-8a54-4bed-ca79-5c100bbf87dd"
      },
      "execution_count": 18,
      "outputs": [
        {
          "output_type": "stream",
          "name": "stderr",
          "text": [
            "WARNING:absl:Found untraced functions such as _jit_compiled_convolution_op, _jit_compiled_convolution_op, _jit_compiled_convolution_op, _jit_compiled_convolution_op, _jit_compiled_convolution_op while saving (showing 5 of 40). These functions will not be directly callable after loading.\n"
          ]
        }
      ]
    }
  ]
}