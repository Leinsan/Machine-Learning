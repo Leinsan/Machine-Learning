{
  "nbformat": 4,
  "nbformat_minor": 0,
  "metadata": {
    "colab": {
      "provenance": []
    },
    "kernelspec": {
      "name": "python3",
      "display_name": "Python 3"
    },
    "language_info": {
      "name": "python"
    },
    "accelerator": "GPU",
    "gpuClass": "standard"
  },
  "cells": [
    {
      "cell_type": "markdown",
      "source": [
        "# Proyek Kedua : Membuat Model Machine Learning dengan Data Time Series\n",
        "\n",
        "---\n",
        "\n",
        "\n",
        "# Daniel Shandy Adryan\n",
        "# 1494037162101-932\n",
        "# danielshandy34@gmail.com"
      ],
      "metadata": {
        "id": "yoMupi7heoZa"
      }
    },
    {
      "cell_type": "markdown",
      "source": [
        "# Preparation"
      ],
      "metadata": {
        "id": "kOeoaPPhelXn"
      }
    },
    {
      "cell_type": "markdown",
      "source": [
        "Importing Libraries and API"
      ],
      "metadata": {
        "id": "b0Q5xn7Jekdo"
      }
    },
    {
      "cell_type": "code",
      "execution_count": 1,
      "metadata": {
        "id": "37-excP3eeAb"
      },
      "outputs": [],
      "source": [
        "import numpy as np\n",
        "import pandas as pd\n",
        "from keras.layers import Dense, LSTM, Dropout, BatchNormalization,Bidirectional\n",
        "import matplotlib.pyplot as plt\n",
        "from sklearn.preprocessing import MinMaxScaler\n",
        "from sklearn.model_selection import train_test_split\n",
        "import tensorflow as tf"
      ]
    },
    {
      "cell_type": "markdown",
      "source": [
        "Declaring variables to simplify the source code"
      ],
      "metadata": {
        "id": "kskslgx1ofnM"
      }
    },
    {
      "cell_type": "code",
      "source": [
        "rc=pd.read_csv\n",
        "bn=BatchNormalization\n",
        "ss=MinMaxScaler()\n",
        "tts=train_test_split"
      ],
      "metadata": {
        "id": "6xLurQTdof_X"
      },
      "execution_count": 2,
      "outputs": []
    },
    {
      "cell_type": "markdown",
      "source": [
        "Reading the csv-files and fill the NaN data"
      ],
      "metadata": {
        "id": "DqrrBSISg4zm"
      }
    },
    {
      "cell_type": "code",
      "source": [
        "df = rc('/content/time-series-19-covid-combined.csv', usecols=['Date', 'Confirmed', 'Recovered', 'Deaths'])\n",
        "\n",
        "df.tail()"
      ],
      "metadata": {
        "colab": {
          "base_uri": "https://localhost:8080/",
          "height": 206
        },
        "id": "wZffwvEA1XCa",
        "outputId": "411c8823-27eb-45d9-eb95-1b6e69fca604"
      },
      "execution_count": 3,
      "outputs": [
        {
          "output_type": "execute_result",
          "data": {
            "text/plain": [
              "             Date  Confirmed  Recovered  Deaths\n",
              "72085  2020-10-13       8036     7632.0     230\n",
              "72086  2020-10-14       8055     7640.0     231\n",
              "72087  2020-10-15       8075     7669.0     231\n",
              "72088  2020-10-16       8099     7673.0     231\n",
              "72089  2020-10-17       8110     7673.0     231"
            ],
            "text/html": [
              "\n",
              "  <div id=\"df-a5befb61-746c-4381-8581-325c67e74026\">\n",
              "    <div class=\"colab-df-container\">\n",
              "      <div>\n",
              "<style scoped>\n",
              "    .dataframe tbody tr th:only-of-type {\n",
              "        vertical-align: middle;\n",
              "    }\n",
              "\n",
              "    .dataframe tbody tr th {\n",
              "        vertical-align: top;\n",
              "    }\n",
              "\n",
              "    .dataframe thead th {\n",
              "        text-align: right;\n",
              "    }\n",
              "</style>\n",
              "<table border=\"1\" class=\"dataframe\">\n",
              "  <thead>\n",
              "    <tr style=\"text-align: right;\">\n",
              "      <th></th>\n",
              "      <th>Date</th>\n",
              "      <th>Confirmed</th>\n",
              "      <th>Recovered</th>\n",
              "      <th>Deaths</th>\n",
              "    </tr>\n",
              "  </thead>\n",
              "  <tbody>\n",
              "    <tr>\n",
              "      <th>72085</th>\n",
              "      <td>2020-10-13</td>\n",
              "      <td>8036</td>\n",
              "      <td>7632.0</td>\n",
              "      <td>230</td>\n",
              "    </tr>\n",
              "    <tr>\n",
              "      <th>72086</th>\n",
              "      <td>2020-10-14</td>\n",
              "      <td>8055</td>\n",
              "      <td>7640.0</td>\n",
              "      <td>231</td>\n",
              "    </tr>\n",
              "    <tr>\n",
              "      <th>72087</th>\n",
              "      <td>2020-10-15</td>\n",
              "      <td>8075</td>\n",
              "      <td>7669.0</td>\n",
              "      <td>231</td>\n",
              "    </tr>\n",
              "    <tr>\n",
              "      <th>72088</th>\n",
              "      <td>2020-10-16</td>\n",
              "      <td>8099</td>\n",
              "      <td>7673.0</td>\n",
              "      <td>231</td>\n",
              "    </tr>\n",
              "    <tr>\n",
              "      <th>72089</th>\n",
              "      <td>2020-10-17</td>\n",
              "      <td>8110</td>\n",
              "      <td>7673.0</td>\n",
              "      <td>231</td>\n",
              "    </tr>\n",
              "  </tbody>\n",
              "</table>\n",
              "</div>\n",
              "      <button class=\"colab-df-convert\" onclick=\"convertToInteractive('df-a5befb61-746c-4381-8581-325c67e74026')\"\n",
              "              title=\"Convert this dataframe to an interactive table.\"\n",
              "              style=\"display:none;\">\n",
              "        \n",
              "  <svg xmlns=\"http://www.w3.org/2000/svg\" height=\"24px\"viewBox=\"0 0 24 24\"\n",
              "       width=\"24px\">\n",
              "    <path d=\"M0 0h24v24H0V0z\" fill=\"none\"/>\n",
              "    <path d=\"M18.56 5.44l.94 2.06.94-2.06 2.06-.94-2.06-.94-.94-2.06-.94 2.06-2.06.94zm-11 1L8.5 8.5l.94-2.06 2.06-.94-2.06-.94L8.5 2.5l-.94 2.06-2.06.94zm10 10l.94 2.06.94-2.06 2.06-.94-2.06-.94-.94-2.06-.94 2.06-2.06.94z\"/><path d=\"M17.41 7.96l-1.37-1.37c-.4-.4-.92-.59-1.43-.59-.52 0-1.04.2-1.43.59L10.3 9.45l-7.72 7.72c-.78.78-.78 2.05 0 2.83L4 21.41c.39.39.9.59 1.41.59.51 0 1.02-.2 1.41-.59l7.78-7.78 2.81-2.81c.8-.78.8-2.07 0-2.86zM5.41 20L4 18.59l7.72-7.72 1.47 1.35L5.41 20z\"/>\n",
              "  </svg>\n",
              "      </button>\n",
              "      \n",
              "  <style>\n",
              "    .colab-df-container {\n",
              "      display:flex;\n",
              "      flex-wrap:wrap;\n",
              "      gap: 12px;\n",
              "    }\n",
              "\n",
              "    .colab-df-convert {\n",
              "      background-color: #E8F0FE;\n",
              "      border: none;\n",
              "      border-radius: 50%;\n",
              "      cursor: pointer;\n",
              "      display: none;\n",
              "      fill: #1967D2;\n",
              "      height: 32px;\n",
              "      padding: 0 0 0 0;\n",
              "      width: 32px;\n",
              "    }\n",
              "\n",
              "    .colab-df-convert:hover {\n",
              "      background-color: #E2EBFA;\n",
              "      box-shadow: 0px 1px 2px rgba(60, 64, 67, 0.3), 0px 1px 3px 1px rgba(60, 64, 67, 0.15);\n",
              "      fill: #174EA6;\n",
              "    }\n",
              "\n",
              "    [theme=dark] .colab-df-convert {\n",
              "      background-color: #3B4455;\n",
              "      fill: #D2E3FC;\n",
              "    }\n",
              "\n",
              "    [theme=dark] .colab-df-convert:hover {\n",
              "      background-color: #434B5C;\n",
              "      box-shadow: 0px 1px 3px 1px rgba(0, 0, 0, 0.15);\n",
              "      filter: drop-shadow(0px 1px 2px rgba(0, 0, 0, 0.3));\n",
              "      fill: #FFFFFF;\n",
              "    }\n",
              "  </style>\n",
              "\n",
              "      <script>\n",
              "        const buttonEl =\n",
              "          document.querySelector('#df-a5befb61-746c-4381-8581-325c67e74026 button.colab-df-convert');\n",
              "        buttonEl.style.display =\n",
              "          google.colab.kernel.accessAllowed ? 'block' : 'none';\n",
              "\n",
              "        async function convertToInteractive(key) {\n",
              "          const element = document.querySelector('#df-a5befb61-746c-4381-8581-325c67e74026');\n",
              "          const dataTable =\n",
              "            await google.colab.kernel.invokeFunction('convertToInteractive',\n",
              "                                                     [key], {});\n",
              "          if (!dataTable) return;\n",
              "\n",
              "          const docLinkHtml = 'Like what you see? Visit the ' +\n",
              "            '<a target=\"_blank\" href=https://colab.research.google.com/notebooks/data_table.ipynb>data table notebook</a>'\n",
              "            + ' to learn more about interactive tables.';\n",
              "          element.innerHTML = '';\n",
              "          dataTable['output_type'] = 'display_data';\n",
              "          await google.colab.output.renderOutput(dataTable, element);\n",
              "          const docLink = document.createElement('div');\n",
              "          docLink.innerHTML = docLinkHtml;\n",
              "          element.appendChild(docLink);\n",
              "        }\n",
              "      </script>\n",
              "    </div>\n",
              "  </div>\n",
              "  "
            ]
          },
          "metadata": {},
          "execution_count": 3
        }
      ]
    },
    {
      "cell_type": "markdown",
      "source": [
        "Fill the missing data"
      ],
      "metadata": {
        "id": "O3V0hqRki_uI"
      }
    },
    {
      "cell_type": "code",
      "source": [
        "df.fillna(method='ffill', inplace=True)\n",
        "df.isnull().sum()"
      ],
      "metadata": {
        "id": "BeArBrrOhTAM",
        "colab": {
          "base_uri": "https://localhost:8080/"
        },
        "outputId": "1f9d4ef9-2442-40d6-cbbb-00ceff77611d"
      },
      "execution_count": 4,
      "outputs": [
        {
          "output_type": "execute_result",
          "data": {
            "text/plain": [
              "Date         0\n",
              "Confirmed    0\n",
              "Recovered    0\n",
              "Deaths       0\n",
              "dtype: int64"
            ]
          },
          "metadata": {},
          "execution_count": 4
        }
      ]
    },
    {
      "cell_type": "code",
      "source": [
        "train_dates = pd.to_datetime(df['Date'])\n",
        "print(train_dates.tail(15))"
      ],
      "metadata": {
        "id": "B5Y50LAlP9_F",
        "colab": {
          "base_uri": "https://localhost:8080/"
        },
        "outputId": "93fde954-80eb-499a-e66d-575a0199cb5c"
      },
      "execution_count": 5,
      "outputs": [
        {
          "output_type": "stream",
          "name": "stdout",
          "text": [
            "72075   2020-10-03\n",
            "72076   2020-10-04\n",
            "72077   2020-10-05\n",
            "72078   2020-10-06\n",
            "72079   2020-10-07\n",
            "72080   2020-10-08\n",
            "72081   2020-10-09\n",
            "72082   2020-10-10\n",
            "72083   2020-10-11\n",
            "72084   2020-10-12\n",
            "72085   2020-10-13\n",
            "72086   2020-10-14\n",
            "72087   2020-10-15\n",
            "72088   2020-10-16\n",
            "72089   2020-10-17\n",
            "Name: Date, dtype: datetime64[ns]\n"
          ]
        }
      ]
    },
    {
      "cell_type": "markdown",
      "source": [
        "Plotting the dataframe"
      ],
      "metadata": {
        "id": "lOvEnUcVjp3m"
      }
    },
    {
      "cell_type": "code",
      "source": [
        "dt = df ['Date'].values\n",
        "dikonfirmasi = df['Confirmed'].values\n",
        " \n",
        "plt.figure(figsize=(20,5))\n",
        "plt.plot(dt, dikonfirmasi)\n",
        "plt.title('Confirmed Daily Cases');"
      ],
      "metadata": {
        "id": "SOC_GCYQjq1F",
        "colab": {
          "base_uri": "https://localhost:8080/",
          "height": 336
        },
        "outputId": "c03cbb23-ffc4-499b-c2ea-360cc7e5d35c"
      },
      "execution_count": 6,
      "outputs": [
        {
          "output_type": "display_data",
          "data": {
            "text/plain": [
              "<Figure size 1440x360 with 1 Axes>"
            ],
            "image/png": "[encoded data removed]"
          },
          "metadata": {
            "needs_background": "light"
          }
        }
      ]
    },
    {
      "cell_type": "markdown",
      "source": [
        "Normalizing the data"
      ],
      "metadata": {
        "id": "2AiMh-AUxbN1"
      }
    },
    {
      "cell_type": "code",
      "source": [
        "mm_scaler = ss.fit_transform(dikonfirmasi.reshape(-1,1))\n",
        "dk_scaled = mm_scaler.reshape(-1)"
      ],
      "metadata": {
        "id": "tmciBF6sMm8E"
      },
      "execution_count": 7,
      "outputs": []
    },
    {
      "cell_type": "markdown",
      "source": [
        "Calculating the Threshold for mae"
      ],
      "metadata": {
        "id": "bV1OUsbcX3VG"
      }
    },
    {
      "cell_type": "code",
      "source": [
        "threshold = (dk_scaled.max() - dk_scaled.min()) * 10/100\n",
        "threshold"
      ],
      "metadata": {
        "id": "kmtQOTl5TnC_",
        "colab": {
          "base_uri": "https://localhost:8080/"
        },
        "outputId": "5b83cd75-e95c-4a19-85c8-f9739587cccc"
      },
      "execution_count": 8,
      "outputs": [
        {
          "output_type": "execute_result",
          "data": {
            "text/plain": [
              "0.1"
            ]
          },
          "metadata": {},
          "execution_count": 8
        }
      ]
    },
    {
      "cell_type": "markdown",
      "source": [
        "# Modelling and Training"
      ],
      "metadata": {
        "id": "5M1w1Cu5Xt8D"
      }
    },
    {
      "cell_type": "markdown",
      "source": [
        "define the function for creating datasets datasets"
      ],
      "metadata": {
        "id": "1J2_c9C-pDro"
      }
    },
    {
      "cell_type": "code",
      "source": [
        "dt_train, dt_test, dk_train, dk_test = tts(dt, dk_scaled, test_size=0.2, shuffle=False)"
      ],
      "metadata": {
        "id": "tZ75P8GpwY2Y"
      },
      "execution_count": 9,
      "outputs": []
    },
    {
      "cell_type": "code",
      "source": [
        "def wds(ser, win_size, batch_size, shuffle_buffer):\n",
        "    ser = tf.expand_dims(ser, axis=-1)\n",
        "    ds = tf.data.Dataset.from_tensor_slices(ser)\n",
        "    ds = ds.window(win_size + 1, shift=1, drop_remainder=True)\n",
        "    ds = ds.flat_map(lambda w: w.batch(win_size + 1))\n",
        "    ds = ds.shuffle(shuffle_buffer)\n",
        "    ds = ds.map(lambda w: (w[:-1], w[-1:]))\n",
        "    return ds.batch(batch_size).prefetch(1)"
      ],
      "metadata": {
        "id": "USBK8lRw0Hxb"
      },
      "execution_count": 10,
      "outputs": []
    },
    {
      "cell_type": "markdown",
      "source": [
        "Modelling"
      ],
      "metadata": {
        "id": "tXRkWg4GY5dN"
      }
    },
    {
      "cell_type": "code",
      "source": [
        "traindata = wds(dk_train, win_size=70, batch_size=10, shuffle_buffer=1000)\n",
        "vd = wds(dk_test, win_size=70, batch_size=10, shuffle_buffer=1000)\n",
        "model = tf.keras.models.Sequential()\n",
        "model.add(LSTM(70, return_sequences=True))\n",
        "model.add(LSTM(70))\n",
        "model.add(Dense(32, activation='relu'))\n",
        "model.add(bn())\n",
        "model.add(Dropout(0.1))\n",
        "model.add(Dense(16, activation='relu'))\n",
        "model.add(bn())\n",
        "model.add(Dropout(0.1))\n",
        "model.add(Dense(1))"
      ],
      "metadata": {
        "id": "xsZfQJbw0JAg"
      },
      "execution_count": 11,
      "outputs": []
    },
    {
      "cell_type": "markdown",
      "source": [
        "Printing Number of samples in a datasets"
      ],
      "metadata": {
        "id": "r_GKav6xXgg6"
      }
    },
    {
      "cell_type": "code",
      "source": [
        "print('train sample :\\n', len(list(traindata)))\n",
        "print('val sample :\\n', len(list(vd)))"
      ],
      "metadata": {
        "id": "K3pAh-FUw33M",
        "colab": {
          "base_uri": "https://localhost:8080/"
        },
        "outputId": "6d687707-5506-408a-c024-12e03438c213"
      },
      "execution_count": 12,
      "outputs": [
        {
          "output_type": "stream",
          "name": "stdout",
          "text": [
            "train sample :\n",
            " 5761\n",
            "val sample :\n",
            " 1435\n"
          ]
        }
      ]
    },
    {
      "cell_type": "markdown",
      "source": [
        "Training"
      ],
      "metadata": {
        "id": "HKobUbmqY7FE"
      }
    },
    {
      "cell_type": "code",
      "source": [
        "optimizer = tf.keras.optimizers.SGD(learning_rate=1.0000e-04, momentum=0.9)\n",
        "model.compile(loss=tf.keras.losses.Huber(),\n",
        "              optimizer=optimizer,\n",
        "              metrics=[\"mae\"])\n",
        "train = model.fit(traindata, steps_per_epoch=20, epochs=60, validation_data=vd)"
      ],
      "metadata": {
        "id": "6XnGcs_c0ZvQ",
        "colab": {
          "base_uri": "https://localhost:8080/"
        },
        "outputId": "7c2d1d01-aab9-41d4-b480-3568cd26b8ef"
      },
      "execution_count": 13,
      "outputs": [
        {
          "output_type": "stream",
          "name": "stdout",
          "text": [
            "Epoch 1/60\n",
            "20/20 [==============================] - 16s 590ms/step - loss: 0.0023 - mae: 0.0459 - val_loss: 0.0019 - val_mae: 0.0118\n",
            "Epoch 2/60\n",
            "20/20 [==============================] - 8s 439ms/step - loss: 7.9880e-04 - mae: 0.0260 - val_loss: 0.0018 - val_mae: 0.0121\n",
            "Epoch 3/60\n",
            "20/20 [==============================] - 8s 438ms/step - loss: 5.8366e-04 - mae: 0.0173 - val_loss: 0.0018 - val_mae: 0.0119\n",
            "Epoch 4/60\n",
            "20/20 [==============================] - 8s 440ms/step - loss: 0.0022 - mae: 0.0240 - val_loss: 0.0017 - val_mae: 0.0111\n",
            "Epoch 5/60\n",
            "20/20 [==============================] - 8s 440ms/step - loss: 0.0351 - mae: 0.1571 - val_loss: 0.0016 - val_mae: 0.0180\n",
            "Epoch 6/60\n",
            "20/20 [==============================] - 8s 439ms/step - loss: 0.0175 - mae: 0.0951 - val_loss: 0.0016 - val_mae: 0.0157\n",
            "Epoch 7/60\n",
            "20/20 [==============================] - 10s 518ms/step - loss: 0.0063 - mae: 0.0654 - val_loss: 0.0015 - val_mae: 0.0163\n",
            "Epoch 8/60\n",
            "20/20 [==============================] - 9s 460ms/step - loss: 0.0094 - mae: 0.0605 - val_loss: 0.0014 - val_mae: 0.0138\n",
            "Epoch 9/60\n",
            "20/20 [==============================] - 9s 490ms/step - loss: 0.0015 - mae: 0.0248 - val_loss: 0.0012 - val_mae: 0.0136\n",
            "Epoch 10/60\n",
            "20/20 [==============================] - 8s 435ms/step - loss: 0.0060 - mae: 0.0404 - val_loss: 0.0011 - val_mae: 0.0089\n",
            "Epoch 11/60\n",
            "20/20 [==============================] - 8s 442ms/step - loss: 0.0054 - mae: 0.0397 - val_loss: 9.8788e-04 - val_mae: 0.0110\n",
            "Epoch 12/60\n",
            "20/20 [==============================] - 8s 436ms/step - loss: 0.0049 - mae: 0.0395 - val_loss: 8.6039e-04 - val_mae: 0.0136\n",
            "Epoch 13/60\n",
            "20/20 [==============================] - 10s 551ms/step - loss: 0.0013 - mae: 0.0225 - val_loss: 6.8816e-04 - val_mae: 0.0138\n",
            "Epoch 14/60\n",
            "20/20 [==============================] - 8s 443ms/step - loss: 0.0031 - mae: 0.0260 - val_loss: 5.3207e-04 - val_mae: 0.0139\n",
            "Epoch 15/60\n",
            "20/20 [==============================] - 10s 551ms/step - loss: 6.0686e-04 - mae: 0.0157 - val_loss: 3.8832e-04 - val_mae: 0.0133\n",
            "Epoch 16/60\n",
            "20/20 [==============================] - 8s 440ms/step - loss: 4.1005e-04 - mae: 0.0131 - val_loss: 2.5164e-04 - val_mae: 0.0096\n",
            "Epoch 17/60\n",
            "20/20 [==============================] - 8s 440ms/step - loss: 2.9851e-04 - mae: 0.0103 - val_loss: 2.3352e-04 - val_mae: 0.0072\n",
            "Epoch 18/60\n",
            "20/20 [==============================] - 8s 437ms/step - loss: 6.2333e-05 - mae: 0.0071 - val_loss: 4.1966e-04 - val_mae: 0.0072\n",
            "Epoch 19/60\n",
            "20/20 [==============================] - 8s 445ms/step - loss: 3.7591e-04 - mae: 0.0121 - val_loss: 9.1578e-04 - val_mae: 0.0079\n",
            "Epoch 20/60\n",
            "20/20 [==============================] - 8s 444ms/step - loss: 0.0013 - mae: 0.0138 - val_loss: 0.0019 - val_mae: 0.0093\n",
            "Epoch 21/60\n",
            "20/20 [==============================] - 8s 440ms/step - loss: 0.0021 - mae: 0.0215 - val_loss: 0.0033 - val_mae: 0.0115\n",
            "Epoch 22/60\n",
            "20/20 [==============================] - 8s 445ms/step - loss: 0.0011 - mae: 0.0195 - val_loss: 0.0054 - val_mae: 0.0153\n",
            "Epoch 23/60\n",
            "20/20 [==============================] - 8s 444ms/step - loss: 0.0048 - mae: 0.0408 - val_loss: 0.0074 - val_mae: 0.0184\n",
            "Epoch 24/60\n",
            "20/20 [==============================] - 8s 444ms/step - loss: 0.0099 - mae: 0.0666 - val_loss: 0.0095 - val_mae: 0.0196\n",
            "Epoch 25/60\n",
            "20/20 [==============================] - 8s 442ms/step - loss: 0.0121 - mae: 0.0701 - val_loss: 0.0127 - val_mae: 0.0231\n",
            "Epoch 26/60\n",
            "20/20 [==============================] - 8s 439ms/step - loss: 0.0061 - mae: 0.0512 - val_loss: 0.0160 - val_mae: 0.0278\n",
            "Epoch 27/60\n",
            "20/20 [==============================] - 11s 552ms/step - loss: 0.0032 - mae: 0.0371 - val_loss: 0.0208 - val_mae: 0.0338\n",
            "Epoch 28/60\n",
            "20/20 [==============================] - 8s 446ms/step - loss: 0.0026 - mae: 0.0363 - val_loss: 0.0268 - val_mae: 0.0402\n",
            "Epoch 29/60\n",
            "20/20 [==============================] - 8s 438ms/step - loss: 0.0059 - mae: 0.0478 - val_loss: 0.0314 - val_mae: 0.0432\n",
            "Epoch 30/60\n",
            "20/20 [==============================] - 10s 551ms/step - loss: 6.6611e-04 - mae: 0.0189 - val_loss: 0.0372 - val_mae: 0.0497\n",
            "Epoch 31/60\n",
            "20/20 [==============================] - 9s 450ms/step - loss: 0.0028 - mae: 0.0269 - val_loss: 0.0452 - val_mae: 0.0599\n",
            "Epoch 32/60\n",
            "20/20 [==============================] - 8s 439ms/step - loss: 9.5236e-04 - mae: 0.0186 - val_loss: 0.0524 - val_mae: 0.0685\n",
            "Epoch 33/60\n",
            "20/20 [==============================] - 8s 441ms/step - loss: 0.0030 - mae: 0.0345 - val_loss: 0.0593 - val_mae: 0.0771\n",
            "Epoch 34/60\n",
            "20/20 [==============================] - 8s 440ms/step - loss: 6.2728e-04 - mae: 0.0188 - val_loss: 0.0674 - val_mae: 0.0871\n",
            "Epoch 35/60\n",
            "20/20 [==============================] - 10s 551ms/step - loss: 5.3030e-04 - mae: 0.0186 - val_loss: 0.0761 - val_mae: 0.0970\n",
            "Epoch 36/60\n",
            "20/20 [==============================] - 8s 437ms/step - loss: 0.0012 - mae: 0.0234 - val_loss: 0.0847 - val_mae: 0.1071\n",
            "Epoch 37/60\n",
            "20/20 [==============================] - 8s 440ms/step - loss: 0.1186 - mae: 0.2789 - val_loss: 0.7166 - val_mae: 1.2059\n",
            "Epoch 38/60\n",
            "20/20 [==============================] - 8s 439ms/step - loss: 0.0965 - mae: 0.2746 - val_loss: 1.3829 - val_mae: 1.8828\n",
            "Epoch 39/60\n",
            "20/20 [==============================] - 10s 525ms/step - loss: 0.1087 - mae: 0.2925 - val_loss: 1.1115 - val_mae: 1.6075\n",
            "Epoch 40/60\n",
            "20/20 [==============================] - 8s 438ms/step - loss: 0.0452 - mae: 0.1753 - val_loss: 0.8697 - val_mae: 1.3660\n",
            "Epoch 41/60\n",
            "20/20 [==============================] - 8s 441ms/step - loss: 0.0267 - mae: 0.1182 - val_loss: 0.6553 - val_mae: 1.1483\n",
            "Epoch 42/60\n",
            "20/20 [==============================] - 8s 441ms/step - loss: 0.0233 - mae: 0.1169 - val_loss: 0.4856 - val_mae: 0.9746\n",
            "Epoch 43/60\n",
            "20/20 [==============================] - 8s 437ms/step - loss: 0.0277 - mae: 0.1161 - val_loss: 0.3202 - val_mae: 0.7881\n",
            "Epoch 44/60\n",
            "20/20 [==============================] - 8s 444ms/step - loss: 0.0159 - mae: 0.0656 - val_loss: 0.1834 - val_mae: 0.5914\n",
            "Epoch 45/60\n",
            "20/20 [==============================] - 8s 440ms/step - loss: 0.0233 - mae: 0.0956 - val_loss: 0.1488 - val_mae: 0.5309\n",
            "Epoch 46/60\n",
            "20/20 [==============================] - 8s 437ms/step - loss: 0.0032 - mae: 0.0297 - val_loss: 0.0973 - val_mae: 0.4262\n",
            "Epoch 47/60\n",
            "20/20 [==============================] - 8s 442ms/step - loss: 0.0091 - mae: 0.0463 - val_loss: 0.0966 - val_mae: 0.4255\n",
            "Epoch 48/60\n",
            "20/20 [==============================] - 8s 439ms/step - loss: 0.0062 - mae: 0.0374 - val_loss: 0.0553 - val_mae: 0.3217\n",
            "Epoch 49/60\n",
            "20/20 [==============================] - 8s 434ms/step - loss: 0.0118 - mae: 0.0485 - val_loss: 0.0556 - val_mae: 0.3246\n",
            "Epoch 50/60\n",
            "20/20 [==============================] - 10s 551ms/step - loss: 1.0725e-04 - mae: 0.0108 - val_loss: 0.0474 - val_mae: 0.2997\n",
            "Epoch 51/60\n",
            "20/20 [==============================] - 8s 446ms/step - loss: 5.5326e-04 - mae: 0.0156 - val_loss: 0.0071 - val_mae: 0.1082\n",
            "Epoch 52/60\n",
            "20/20 [==============================] - 10s 551ms/step - loss: 9.9791e-04 - mae: 0.0171 - val_loss: 0.0022 - val_mae: 0.0338\n",
            "Epoch 53/60\n",
            "20/20 [==============================] - 8s 441ms/step - loss: 8.2743e-05 - mae: 0.0098 - val_loss: 0.0024 - val_mae: 0.0413\n",
            "Epoch 54/60\n",
            "20/20 [==============================] - 8s 439ms/step - loss: 3.8243e-04 - mae: 0.0130 - val_loss: 0.0022 - val_mae: 0.0387\n",
            "Epoch 55/60\n",
            "20/20 [==============================] - 9s 447ms/step - loss: 6.7364e-05 - mae: 0.0088 - val_loss: 0.0023 - val_mae: 0.0306\n",
            "Epoch 56/60\n",
            "20/20 [==============================] - 11s 552ms/step - loss: 6.2494e-05 - mae: 0.0085 - val_loss: 0.0026 - val_mae: 0.0230\n",
            "Epoch 57/60\n",
            "20/20 [==============================] - 11s 553ms/step - loss: 7.7376e-05 - mae: 0.0088 - val_loss: 0.0033 - val_mae: 0.0221\n",
            "Epoch 58/60\n",
            "20/20 [==============================] - 9s 449ms/step - loss: 1.5396e-04 - mae: 0.0095 - val_loss: 0.0043 - val_mae: 0.0218\n",
            "Epoch 59/60\n",
            "20/20 [==============================] - 8s 437ms/step - loss: 6.6050e-05 - mae: 0.0085 - val_loss: 0.0058 - val_mae: 0.0290\n",
            "Epoch 60/60\n",
            "20/20 [==============================] - 10s 551ms/step - loss: 2.0391e-04 - mae: 0.0108 - val_loss: 0.0054 - val_mae: 0.0278\n"
          ]
        }
      ]
    },
    {
      "cell_type": "markdown",
      "source": [
        "# Plotting"
      ],
      "metadata": {
        "id": "qstvSZ88YMy2"
      }
    },
    {
      "cell_type": "markdown",
      "source": [
        "Loss Plotting"
      ],
      "metadata": {
        "id": "qtdeB7RfZZoG"
      }
    },
    {
      "cell_type": "code",
      "source": [
        "plt.plot(train.history['loss'], label = 'Latih')\n",
        "plt.plot(train.history['val_loss'], label = 'Test')\n",
        "plt.legend()"
      ],
      "metadata": {
        "id": "I1e-_c3kYMWa",
        "colab": {
          "base_uri": "https://localhost:8080/",
          "height": 283
        },
        "outputId": "18760390-b0c1-43d3-b8b8-ac572d195eb0"
      },
      "execution_count": 14,
      "outputs": [
        {
          "output_type": "execute_result",
          "data": {
            "text/plain": [
              "<matplotlib.legend.Legend at 0x7f7f9bfe2910>"
            ]
          },
          "metadata": {},
          "execution_count": 14
        },
        {
          "output_type": "display_data",
          "data": {
            "text/plain": [
              "<Figure size 432x288 with 1 Axes>"
            ],
            "image/png": "[encoded data removed]"
          },
          "metadata": {
            "needs_background": "light"
          }
        }
      ]
    },
    {
      "cell_type": "markdown",
      "source": [
        "mae Plotting"
      ],
      "metadata": {
        "id": "6LAKWV_1ZOfS"
      }
    },
    {
      "cell_type": "code",
      "source": [
        "plt.plot(train.history['mae'], label = 'Latih')\n",
        "plt.plot(train.history['val_mae'], label = 'Test')\n",
        "plt.legend()"
      ],
      "metadata": {
        "id": "1sgOLkIAZORI",
        "colab": {
          "base_uri": "https://localhost:8080/",
          "height": 283
        },
        "outputId": "3c862c31-c1f3-4af1-e445-1689cc38eda9"
      },
      "execution_count": 15,
      "outputs": [
        {
          "output_type": "execute_result",
          "data": {
            "text/plain": [
              "<matplotlib.legend.Legend at 0x7f7f9bf98650>"
            ]
          },
          "metadata": {},
          "execution_count": 15
        },
        {
          "output_type": "display_data",
          "data": {
            "text/plain": [
              "<Figure size 432x288 with 1 Axes>"
            ],
            "image/png": "[encoded data removed]"
          },
          "metadata": {
            "needs_background": "light"
          }
        }
      ]
    }
  ]
}